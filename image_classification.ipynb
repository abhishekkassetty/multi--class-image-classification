{
 "cells": [
  {
   "cell_type": "code",
   "execution_count": 1,
   "metadata": {
    "id": "_N83hnhl9Ng_"
   },
   "outputs": [],
   "source": [
    "import os\n",
    "import pandas as pd\n",
    "import numpy as np\n",
    "import matplotlib.pyplot as plt\n",
    "import PIL\n",
    "import pathlib\n",
    "import cv2\n",
    "import tensorflow as tf\n",
    "from tensorflow.keras.utils import to_categorical\n",
    "from tensorflow import keras\n",
    "from tensorflow.keras import layers\n",
    "from tensorflow.keras.models import Sequential"
   ]
  },
  {
   "cell_type": "code",
   "execution_count": 2,
   "metadata": {
    "id": "FuSidyfNQHHc"
   },
   "outputs": [],
   "source": [
    "categories = [\"buildings\",\"forest\",\"glacier\",\"mountain\",\"sea\",\"street\"]"
   ]
  },
  {
   "cell_type": "code",
   "execution_count": 3,
   "metadata": {
    "id": "8L8n9iiX9rIF"
   },
   "outputs": [],
   "source": [
    "labels = [i for i in range(0,6)]"
   ]
  },
  {
   "cell_type": "code",
   "execution_count": 4,
   "metadata": {
    "id": "hCFSCxy2ROAz"
   },
   "outputs": [],
   "source": [
    "label_dict = {categories[i]:labels[i] for i in range(len(categories))}"
   ]
  },
  {
   "cell_type": "code",
   "execution_count": 5,
   "metadata": {
    "id": "vU2rSmOVpx72"
   },
   "outputs": [],
   "source": [
    "datapath = r\"F:\\dataset\\TRAIN\""
   ]
  },
  {
   "cell_type": "code",
   "execution_count": 6,
   "metadata": {
    "id": "ZC1Vq9NdRi-6"
   },
   "outputs": [],
   "source": [
    "data = []\n",
    "target = []"
   ]
  },
  {
   "cell_type": "code",
   "execution_count": 7,
   "metadata": {
    "id": "6vAiZG6LRkiM"
   },
   "outputs": [],
   "source": [
    "for category in categories:\n",
    "    filepath = os.path.join(datapath,category)\n",
    "    img_names=os.listdir(filepath)\n",
    "    for img_name in img_names:\n",
    "        img_path=os.path.join(filepath,img_name)\n",
    "        img=cv2.imread(img_path)\n",
    "        gray=cv2.cvtColor(img,cv2.COLOR_BGR2GRAY)\n",
    "        resized=cv2.resize(gray,(100,100))\n",
    "        data.append(resized)\n",
    "        target.append(label_dict[category])\n",
    "        "
   ]
  },
  {
   "cell_type": "code",
   "execution_count": 8,
   "metadata": {
    "id": "ROfLfg9gRm-6"
   },
   "outputs": [],
   "source": [
    "data = np.array(data)"
   ]
  },
  {
   "cell_type": "code",
   "execution_count": 9,
   "metadata": {
    "id": "UIb9vgGbRpSJ"
   },
   "outputs": [],
   "source": [
    "data = data/255"
   ]
  },
  {
   "cell_type": "code",
   "execution_count": 10,
   "metadata": {
    "colab": {
     "base_uri": "https://localhost:8080/",
     "height": 34
    },
    "id": "d2aqShRRRrlF",
    "outputId": "55728e97-a008-4184-b6b2-7faeb349ca2e"
   },
   "outputs": [
    {
     "data": {
      "text/plain": [
       "(13625, 100, 100)"
      ]
     },
     "execution_count": 10,
     "metadata": {},
     "output_type": "execute_result"
    }
   ],
   "source": [
    "data.shape"
   ]
  },
  {
   "cell_type": "code",
   "execution_count": 11,
   "metadata": {
    "id": "KeIpA-TxRthj"
   },
   "outputs": [],
   "source": [
    "data = np.reshape(data,(data.shape[0],100,100,1))"
   ]
  },
  {
   "cell_type": "code",
   "execution_count": 12,
   "metadata": {
    "colab": {
     "base_uri": "https://localhost:8080/",
     "height": 34
    },
    "id": "-y3-onE4RvKe",
    "outputId": "381b47e5-cef0-47e3-e33d-d21ead204606"
   },
   "outputs": [
    {
     "data": {
      "text/plain": [
       "(13625, 100, 100, 1)"
      ]
     },
     "execution_count": 12,
     "metadata": {},
     "output_type": "execute_result"
    }
   ],
   "source": [
    "data.shape"
   ]
  },
  {
   "cell_type": "code",
   "execution_count": 13,
   "metadata": {
    "id": "908HD_rtRwrC"
   },
   "outputs": [],
   "source": [
    "target = np.array(target)"
   ]
  },
  {
   "cell_type": "code",
   "execution_count": 14,
   "metadata": {
    "colab": {
     "base_uri": "https://localhost:8080/",
     "height": 34
    },
    "id": "Pgo9PdN3RyLw",
    "outputId": "64d5f112-fcf2-4ff3-95ed-df27d12120ac"
   },
   "outputs": [
    {
     "data": {
      "text/plain": [
       "(13625,)"
      ]
     },
     "execution_count": 14,
     "metadata": {},
     "output_type": "execute_result"
    }
   ],
   "source": [
    "target.shape"
   ]
  },
  {
   "cell_type": "code",
   "execution_count": 15,
   "metadata": {
    "id": "M-jfXRhjR0jC"
   },
   "outputs": [],
   "source": [
    "new_target = to_categorical(target)"
   ]
  },
  {
   "cell_type": "code",
   "execution_count": 16,
   "metadata": {
    "colab": {
     "base_uri": "https://localhost:8080/",
     "height": 34
    },
    "id": "r2AWZ6woR7Ew",
    "outputId": "cf6e4744-fd50-45fc-ba6a-318eef2f2fa4"
   },
   "outputs": [
    {
     "data": {
      "text/plain": [
       "(13625, 6)"
      ]
     },
     "execution_count": 16,
     "metadata": {},
     "output_type": "execute_result"
    }
   ],
   "source": [
    "new_target.shape"
   ]
  },
  {
   "cell_type": "code",
   "execution_count": 17,
   "metadata": {
    "id": "PAnAyrVQR8ED"
   },
   "outputs": [],
   "source": [
    "from tensorflow.keras.layers import Conv2D,Activation,Flatten,MaxPooling2D,Dense"
   ]
  },
  {
   "cell_type": "code",
   "execution_count": 18,
   "metadata": {
    "id": "SFnnYVxTSCLx"
   },
   "outputs": [],
   "source": [
    "model = Sequential()"
   ]
  },
  {
   "cell_type": "code",
   "execution_count": 19,
   "metadata": {
    "id": "WkHuZ0rKSFEl"
   },
   "outputs": [],
   "source": [
    "model.add(Conv2D(200,(3,3),input_shape = data.shape[1:],activation = \"relu\"))"
   ]
  },
  {
   "cell_type": "code",
   "execution_count": 20,
   "metadata": {
    "id": "yxLfBw6eSIS-"
   },
   "outputs": [],
   "source": [
    "model.add(MaxPooling2D(pool_size = (2,2)))"
   ]
  },
  {
   "cell_type": "code",
   "execution_count": 21,
   "metadata": {
    "id": "t1kts6XnSKAa"
   },
   "outputs": [],
   "source": [
    "model.add(Conv2D(100,(3,3),activation = \"relu\"))"
   ]
  },
  {
   "cell_type": "code",
   "execution_count": 22,
   "metadata": {
    "id": "3vGl-M8zSL-B"
   },
   "outputs": [],
   "source": [
    "model.add(MaxPooling2D(pool_size = (2,2)))"
   ]
  },
  {
   "cell_type": "code",
   "execution_count": 23,
   "metadata": {
    "id": "_coNSNCTSNf5"
   },
   "outputs": [],
   "source": [
    "model.add(Flatten())"
   ]
  },
  {
   "cell_type": "code",
   "execution_count": 24,
   "metadata": {
    "id": "wHllEbn-SPNc"
   },
   "outputs": [],
   "source": [
    "model.add(Dense(150,activation = \"relu\"))"
   ]
  },
  {
   "cell_type": "code",
   "execution_count": 25,
   "metadata": {
    "id": "OWh_jxorSQiZ"
   },
   "outputs": [],
   "source": [
    "model.add(Dense(75,activation = \"relu\"))"
   ]
  },
  {
   "cell_type": "code",
   "execution_count": 26,
   "metadata": {
    "id": "PNMYQxmsSSj7"
   },
   "outputs": [],
   "source": [
    "model.add(Dense(6,activation = \"softmax\"))"
   ]
  },
  {
   "cell_type": "code",
   "execution_count": 27,
   "metadata": {
    "id": "cS-a6N4WST8f"
   },
   "outputs": [],
   "source": [
    "model.compile(loss = \"categorical_crossentropy\",optimizer = \"adam\",metrics = [\"accuracy\"])"
   ]
  },
  {
   "cell_type": "code",
   "execution_count": 28,
   "metadata": {
    "id": "3pt10FIqieh4"
   },
   "outputs": [],
   "source": [
    "from sklearn.model_selection import train_test_split\n",
    "\n",
    "train_data, test_data, train_target, test_target = train_test_split(data, new_target, test_size = 0.2)"
   ]
  },
  {
   "cell_type": "code",
   "execution_count": 31,
   "metadata": {
    "colab": {
     "base_uri": "https://localhost:8080/",
     "height": 370
    },
    "id": "6oYwUknLSZu9",
    "outputId": "908c30a3-ad5c-42ec-f5f0-a639b13ddcce"
   },
   "outputs": [
    {
     "name": "stdout",
     "output_type": "stream",
     "text": [
      "Epoch 1/10\n",
      "341/341 [==============================] - 574s 2s/step - loss: 1.1886 - accuracy: 0.5238\n",
      "Epoch 2/10\n",
      "341/341 [==============================] - 564s 2s/step - loss: 0.8803 - accuracy: 0.6572\n",
      "Epoch 3/10\n",
      "341/341 [==============================] - 570s 2s/step - loss: 0.7546 - accuracy: 0.7069\n",
      "Epoch 4/10\n",
      "341/341 [==============================] - 565s 2s/step - loss: 0.6304 - accuracy: 0.7609\n",
      "Epoch 5/10\n",
      "341/341 [==============================] - 569s 2s/step - loss: 0.5155 - accuracy: 0.8094\n",
      "Epoch 6/10\n",
      "341/341 [==============================] - 576s 2s/step - loss: 0.3650 - accuracy: 0.8639\n",
      "Epoch 7/10\n",
      "341/341 [==============================] - 624s 2s/step - loss: 0.2550 - accuracy: 0.9106\n",
      "Epoch 8/10\n",
      "341/341 [==============================] - 665s 2s/step - loss: 0.1902 - accuracy: 0.9349\n",
      "Epoch 9/10\n",
      "341/341 [==============================] - 572s 2s/step - loss: 0.1058 - accuracy: 0.9676\n",
      "Epoch 10/10\n",
      "341/341 [==============================] - 579s 2s/step - loss: 0.0896 - accuracy: 0.9697\n"
     ]
    },
    {
     "data": {
      "text/plain": [
       "<tensorflow.python.keras.callbacks.History at 0x1b8c15cf130>"
      ]
     },
     "execution_count": 31,
     "metadata": {},
     "output_type": "execute_result"
    }
   ],
   "source": [
    "model.fit(train_data,train_target,epochs = 10)"
   ]
  },
  {
   "cell_type": "code",
   "execution_count": 32,
   "metadata": {
    "colab": {
     "base_uri": "https://localhost:8080/",
     "height": 154
    },
    "id": "ht69VC1JScPK",
    "outputId": "dbd1274c-3e9c-4114-be2e-d769ff6613b2",
    "scrolled": true
   },
   "outputs": [
    {
     "name": "stdout",
     "output_type": "stream",
     "text": [
      "WARNING:tensorflow:From C:\\Users\\Susmisatya\\anaconda3\\lib\\site-packages\\tensorflow\\python\\training\\tracking\\tracking.py:111: Model.state_updates (from tensorflow.python.keras.engine.training) is deprecated and will be removed in a future version.\n",
      "Instructions for updating:\n",
      "This property should not be used in TensorFlow 2.0, as updates are applied automatically.\n",
      "WARNING:tensorflow:From C:\\Users\\Susmisatya\\anaconda3\\lib\\site-packages\\tensorflow\\python\\training\\tracking\\tracking.py:111: Layer.updates (from tensorflow.python.keras.engine.base_layer) is deprecated and will be removed in a future version.\n",
      "Instructions for updating:\n",
      "This property should not be used in TensorFlow 2.0, as updates are applied automatically.\n",
      "INFO:tensorflow:Assets written to: Image_classification\\assets\n"
     ]
    }
   ],
   "source": [
    "model.save('Image_classification')"
   ]
  },
  {
   "cell_type": "code",
   "execution_count": 33,
   "metadata": {
    "colab": {
     "base_uri": "https://localhost:8080/",
     "height": 420
    },
    "id": "daBhMna_hqOZ",
    "outputId": "9cc112b7-429c-4921-bbd4-fee94245bd02"
   },
   "outputs": [
    {
     "name": "stdout",
     "output_type": "stream",
     "text": [
      "Model: \"sequential\"\n",
      "_________________________________________________________________\n",
      "Layer (type)                 Output Shape              Param #   \n",
      "=================================================================\n",
      "conv2d (Conv2D)              (None, 98, 98, 200)       2000      \n",
      "_________________________________________________________________\n",
      "max_pooling2d (MaxPooling2D) (None, 49, 49, 200)       0         \n",
      "_________________________________________________________________\n",
      "conv2d_1 (Conv2D)            (None, 47, 47, 100)       180100    \n",
      "_________________________________________________________________\n",
      "max_pooling2d_1 (MaxPooling2 (None, 23, 23, 100)       0         \n",
      "_________________________________________________________________\n",
      "flatten (Flatten)            (None, 52900)             0         \n",
      "_________________________________________________________________\n",
      "dense (Dense)                (None, 150)               7935150   \n",
      "_________________________________________________________________\n",
      "dense_1 (Dense)              (None, 75)                11325     \n",
      "_________________________________________________________________\n",
      "dense_2 (Dense)              (None, 6)                 456       \n",
      "=================================================================\n",
      "Total params: 8,129,031\n",
      "Trainable params: 8,129,031\n",
      "Non-trainable params: 0\n",
      "_________________________________________________________________\n"
     ]
    }
   ],
   "source": [
    "from tensorflow import keras\n",
    "model = keras.models.load_model('Image_classification')\n",
    "model.summary()"
   ]
  },
  {
   "cell_type": "code",
   "execution_count": 34,
   "metadata": {
    "colab": {
     "base_uri": "https://localhost:8080/",
     "height": 50
    },
    "id": "pdGfA5HUil9d",
    "outputId": "7d298aeb-0b3a-44c6-9559-db970ec40acf"
   },
   "outputs": [
    {
     "name": "stdout",
     "output_type": "stream",
     "text": [
      "426/426 [==============================] - 222s 520ms/step - loss: 0.3121 - accuracy: 0.9335\n",
      "[0.31211918592453003, 0.933504581451416]\n"
     ]
    }
   ],
   "source": [
    "print(model.evaluate(data, new_target))"
   ]
  }
 ],
 "metadata": {
  "accelerator": "GPU",
  "colab": {
   "name": "image classification.ipynb",
   "provenance": []
  },
  "kernelspec": {
   "display_name": "Python 3",
   "language": "python",
   "name": "python3"
  },
  "language_info": {
   "codemirror_mode": {
    "name": "ipython",
    "version": 3
   },
   "file_extension": ".py",
   "mimetype": "text/x-python",
   "name": "python",
   "nbconvert_exporter": "python",
   "pygments_lexer": "ipython3",
   "version": "3.8.3"
  }
 },
 "nbformat": 4,
 "nbformat_minor": 1
}
